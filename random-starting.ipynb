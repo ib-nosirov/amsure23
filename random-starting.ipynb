{
 "cells": [
  {
   "cell_type": "code",
   "execution_count": 1,
   "id": "a9f5133b",
   "metadata": {},
   "outputs": [
    {
     "data": {
      "text/plain": [
       "Plots.GRBackend()"
      ]
     },
     "metadata": {},
     "output_type": "display_data"
    }
   ],
   "source": [
    "using LinearAlgebra\n",
    "using Arpack\n",
    "using Random\n",
    "using Plots\n",
    "\n",
    "gr(size=(1800,1600))"
   ]
  },
  {
   "cell_type": "code",
   "execution_count": 52,
   "id": "9e068b31",
   "metadata": {},
   "outputs": [
    {
     "data": {
      "text/plain": [
       "OracleSubspace (generic function with 1 method)"
      ]
     },
     "metadata": {},
     "output_type": "display_data"
    }
   ],
   "source": [
    "function OracleSubspace(A,b,ε,q,k,Pi,x_true)\n",
    "# approximation of the smallest eigenvalues.\n",
    "eigvals,eigvecs = eigen(inv(I - ε*A))\n",
    "# Sort eigenvalues in descending order\n",
    "sorted_indices = sortperm(real(eigvals), rev = true)\n",
    "sorted_eigvecs = real(eigvecs[:, sorted_indices])\n",
    "\n",
    "# Get the q-1 largest eigenvectors\n",
    "top_eigvecs = sorted_eigvecs[:,1:q-1]\n",
    "#invA = invA[:,:q-1]\n",
    "\n",
    "error_arr = zeros(q)\n",
    "\n",
    "y = zeros(size(b))\n",
    "\n",
    "for j=1:q\n",
    "    y += ε*b - ε*A*y\n",
    "    full_subspace = hcat(y,top_eigvecs)\n",
    "    Q,R = qr(full_subspace)\n",
    "    Q = Matrix(Q)\n",
    "\n",
    "    AQ = A*Q\n",
    "    c = (Q'*AQ)\\(Q'*b)\n",
    "\n",
    "    x_approx = Q*c\n",
    "\n",
    "    error_arr[j] = norm(x_approx-x_true)/norm(x_true)\n",
    "end\n",
    "\n",
    "return error_arr\n",
    "end"
   ]
  },
  {
   "cell_type": "code",
   "execution_count": 53,
   "id": "a1ede4a8",
   "metadata": {},
   "outputs": [
    {
     "data": {
      "text/plain": [
       "RandomStarting (generic function with 1 method)"
      ]
     },
     "metadata": {},
     "output_type": "display_data"
    }
   ],
   "source": [
    "function RandomStarting(A,b,ε,q,k,Pi,x_true)\n",
    "n = size(A,1)\n",
    "# Ensure that ε is small enough so that I - ε*A has\n",
    "# spectral radius < 1\n",
    "eigenvalues = eigvals(I - ε*A)\n",
    "spectral_radius = maximum(abs.(eigenvalues))\n",
    "if spectral_radius >= 1\n",
    "    throw(ArgumentError(\"Choose a smaller ε such that spectral radius of I - εA\n",
    "    is less than 1\"))\n",
    "end\n",
    "\n",
    "Y = zeros(n,k)\n",
    "Y[:,2:end] = Pi\n",
    "\n",
    "error_arr = zeros(q)\n",
    "\n",
    "for j=1:q\n",
    "    Y[:,2:end] = (I - ε*A)*Y[:,2:end]\n",
    "    Y[:,1] += ε*b - ε*A*Y[:,1]\n",
    "\n",
    "    Q,R = qr(Y)\n",
    "\n",
    "    Q = Matrix(Q) # skinny qr\n",
    "    \n",
    "    AQ = A*Q\n",
    "    c = (Q'*AQ)\\(Q'*b)\n",
    "\n",
    "    x_approx = Q*c\n",
    "\n",
    "    error_arr[j] = norm(x_approx-x_true)/norm(x_true)\n",
    "end\n",
    "\n",
    "return error_arr\n",
    "end"
   ]
  },
  {
   "cell_type": "code",
   "execution_count": 54,
   "id": "f497b25d",
   "metadata": {},
   "outputs": [
    {
     "ename": "BoundsError",
     "evalue": "BoundsError: attempt to access 1000×1000 Matrix{Float64} at index [1:1000, 1:1999]",
     "output_type": "error",
     "traceback": [
      "BoundsError: attempt to access 1000×1000 Matrix{Float64} at index [1:1000, 1:1999]\n",
      "\n",
      "Stacktrace:\n",
      " [1] throw_boundserror(A::Matrix{Float64}, I::Tuple{Base.Slice{Base.OneTo{Int64}}, UnitRange{Int64}})\n",
      "   @ Base ./abstractarray.jl:744\n",
      " [2] checkbounds\n",
      "   @ ./abstractarray.jl:709 [inlined]\n",
      " [3] _getindex\n",
      "   @ ./multidimensional.jl:860 [inlined]\n",
      " [4] getindex\n",
      "   @ ./abstractarray.jl:1294 [inlined]\n",
      " [5] OracleSubspace(A::Matrix{Float64}, b::Vector{Float64}, ε::Float64, q::Int64, k::Int64, Pi::Matrix{Float64}, x_true::Vector{Float64})\n",
      "   @ Main ~/undergrad/research/amsure23/scripts/random-starting.ipynb:9\n",
      " [6] top-level scope\n",
      "   @ ~/undergrad/research/amsure23/scripts/random-starting.ipynb:15"
     ]
    }
   ],
   "source": [
    "# main\n",
    "n = 1000\n",
    "λ = @. 10 + (1:n)\n",
    "A = randn(n,n) + diagm(λ)\n",
    "b = randn(n)\n",
    "ε = 0.001\n",
    "q_arr = 200\n",
    "k = 10\n",
    "x_true = A\\b\n",
    "# random sketch matrix\n",
    "Pi = randn(n,k-1)\n",
    "\n",
    "p = plot()\n",
    "for q=q_arr\n",
    "    oracle_error = OracleSubspace(A,b,ε,q,k,Pi,x_true)\n",
    "    plot!(1:length(oracle_error),oracle_error,\n",
    "        title=\"Accuracy vs q\",\n",
    "        yaxis=:log10,\n",
    "        xlab=\"q\",\n",
    "        ylab=\"Accuracy\",\n",
    "        label=q,\n",
    "        linewidth=2,\n",
    "        titlefontsize=30,\n",
    "        guidefontsize=30,\n",
    "        tickfontsize=30)\n",
    "end\n",
    "\n",
    "display(p)\n",
    "\n",
    "p = plot()\n",
    "for q=q_arr\n",
    "    algo_error = RandomStarting(A,b,ε,q,k,Pi,x_true)\n",
    "    plot!(1:length(algo_error),algo_error,\n",
    "        title=\"Accuracy vs q\",\n",
    "        yaxis=:log10,\n",
    "        xlab=\"q\",\n",
    "        ylab=\"Accuracy\",\n",
    "        label=q,\n",
    "        linewidth=2,\n",
    "        titlefontsize=30,\n",
    "        guidefontsize=30,\n",
    "        tickfontsize=30)\n",
    "end\n",
    "\n",
    "display(p)\n"
   ]
  },
  {
   "cell_type": "code",
   "execution_count": null,
   "id": "e372afac",
   "metadata": {},
   "outputs": [],
   "source": []
  }
 ],
 "metadata": {
  "kernelspec": {
   "display_name": "Julia 1.9.0",
   "language": "julia",
   "name": "julia-1.9"
  },
  "language_info": {
   "file_extension": ".jl",
   "mimetype": "application/julia",
   "name": "julia",
   "version": "1.9.0"
  }
 },
 "nbformat": 4,
 "nbformat_minor": 5
}
